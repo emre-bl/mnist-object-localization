{
 "cells": [
  {
   "cell_type": "code",
   "execution_count": 1,
   "metadata": {},
   "outputs": [],
   "source": [
    "import os,cv2,keras\n",
    "import pandas as pd\n",
    "import matplotlib.pyplot as plt\n",
    "import numpy as np\n",
    "import tensorflow as tf\n",
    "from keras.datasets import mnist\n",
    "\n",
    "\n",
    "#load mnist dataset\n",
    "(x_train, y_train), (x_test, y_test) = mnist.load_data()"
   ]
  },
  {
   "cell_type": "code",
   "execution_count": 2,
   "metadata": {},
   "outputs": [],
   "source": [
    "import numpy as np\n",
    "\n",
    "def create_image(mnist_image):\n",
    "    #create 72x72 canvas\n",
    "    canvas = np.zeros((72,72), dtype=np.uint8)\n",
    "\n",
    "    #resize mnist image to random size between 14x14 and 36x36\n",
    "    random_size = np.random.randint(14, 36)\n",
    "    mnist_image = cv2.resize(mnist_image, (random_size, random_size))\n",
    "\n",
    "    #paste mnist image to random location on canvas\n",
    "    x_offset = np.random.randint(0, 72-random_size)\n",
    "    y_offset = np.random.randint(0, 72-random_size)\n",
    "    canvas[y_offset:y_offset+random_size, x_offset:x_offset+random_size] = mnist_image\n",
    "\n",
    "    #get object location in canvas coordinates for R-CNN training\n",
    "    x_min = x_offset / 72\n",
    "    y_min = y_offset / 72\n",
    "    x_max = (x_offset + random_size) / 72\n",
    "    y_max = (y_offset + random_size) / 72\n",
    "\n",
    "    location = [x_min, y_min, x_max, y_max]\n",
    "\n",
    "    return canvas, location"
   ]
  },
  {
   "cell_type": "code",
   "execution_count": 3,
   "metadata": {},
   "outputs": [
    {
     "name": "stdout",
     "output_type": "stream",
     "text": [
      "0.4444444444444444 0.041666666666666664 0.7777777777777778 0.375\n"
     ]
    },
    {
     "data": {
      "image/png": "[encoded data removed]",
      "text/plain": [
       "<Figure size 640x480 with 1 Axes>"
      ]
     },
     "metadata": {},
     "output_type": "display_data"
    }
   ],
   "source": [
    "temp,location = create_image(x_train[0])\n",
    "plt.imshow(temp, cmap='gray')\n",
    "print(*location)"
   ]
  },
  {
   "cell_type": "code",
   "execution_count": 4,
   "metadata": {},
   "outputs": [
    {
     "name": "stderr",
     "output_type": "stream",
     "text": [
      "100%|██████████| 60000/60000 [00:00<00:00, 89552.23it/s]\n",
      "100%|██████████| 10000/10000 [00:00<00:00, 89285.91it/s]\n"
     ]
    }
   ],
   "source": [
    "from tqdm import tqdm\n",
    "\n",
    "\n",
    "temp_x_train = np.ndarray((x_train.shape[0], 72, 72), dtype=np.uint8)\n",
    "locations_train = np.ndarray((x_train.shape[0], 4), dtype=np.float32)\n",
    "\n",
    "for i in tqdm(range(x_train.shape[0])):\n",
    "    temp_x_train[i], label = create_image(x_train[i])\n",
    "    locations_train[i] = label\n",
    "\n",
    "x_train = temp_x_train\n",
    "\n",
    "temp_x_test = np.ndarray((x_test.shape[0], 72, 72), dtype=np.uint8)\n",
    "locations_test = np.ndarray((x_test.shape[0], 4), dtype=np.float32)\n",
    "\n",
    "for i in tqdm(range(x_test.shape[0])):\n",
    "    temp_x_test[i], label = create_image(x_test[i])\n",
    "    locations_test[i] = label\n",
    "\n",
    "x_test = temp_x_test"
   ]
  },
  {
   "cell_type": "markdown",
   "metadata": {},
   "source": [
    "# Train R-CNN with TensorFlow"
   ]
  },
  {
   "cell_type": "code",
   "execution_count": 5,
   "metadata": {},
   "outputs": [
    {
     "name": "stderr",
     "output_type": "stream",
     "text": [
      "c:\\Users\\Emre\\AppData\\Local\\Programs\\Python\\Python39\\lib\\site-packages\\keras\\optimizers\\optimizer_v2\\adam.py:114: UserWarning: The `lr` argument is deprecated, use `learning_rate` instead.\n",
      "  super().__init__(name, **kwargs)\n"
     ]
    },
    {
     "name": "stdout",
     "output_type": "stream",
     "text": [
      "Epoch 1/5\n"
     ]
    },
    {
     "ename": "KeyboardInterrupt",
     "evalue": "",
     "output_type": "error",
     "traceback": [
      "\u001b[1;31m---------------------------------------------------------------------------\u001b[0m",
      "\u001b[1;31mKeyboardInterrupt\u001b[0m                         Traceback (most recent call last)",
      "Cell \u001b[1;32mIn[5], line 74\u001b[0m\n\u001b[0;32m     71\u001b[0m y_test_onehot \u001b[38;5;241m=\u001b[39m to_categorical(y_test, num_classes\u001b[38;5;241m=\u001b[39m\u001b[38;5;241m10\u001b[39m)\n\u001b[0;32m     73\u001b[0m \u001b[38;5;66;03m# Train the model\u001b[39;00m\n\u001b[1;32m---> 74\u001b[0m \u001b[43mmodel\u001b[49m\u001b[38;5;241;43m.\u001b[39;49m\u001b[43mfit\u001b[49m\u001b[43m(\u001b[49m\u001b[43mx_train\u001b[49m\u001b[43m,\u001b[49m\u001b[43m \u001b[49m\u001b[43m[\u001b[49m\u001b[43mlocations_train\u001b[49m\u001b[43m,\u001b[49m\u001b[43m \u001b[49m\u001b[43my_train_onehot\u001b[49m\u001b[43m]\u001b[49m\u001b[43m,\u001b[49m\u001b[43m \u001b[49m\u001b[43mepochs\u001b[49m\u001b[38;5;241;43m=\u001b[39;49m\u001b[38;5;241;43m5\u001b[39;49m\u001b[43m,\u001b[49m\u001b[43m \u001b[49m\u001b[43mbatch_size\u001b[49m\u001b[38;5;241;43m=\u001b[39;49m\u001b[38;5;241;43m32\u001b[39;49m\u001b[43m,\u001b[49m\u001b[43m \u001b[49m\u001b[43mvalidation_data\u001b[49m\u001b[38;5;241;43m=\u001b[39;49m\u001b[43m(\u001b[49m\u001b[43mx_test\u001b[49m\u001b[43m,\u001b[49m\u001b[43m \u001b[49m\u001b[43m[\u001b[49m\u001b[43mlocations_test\u001b[49m\u001b[43m,\u001b[49m\u001b[43m \u001b[49m\u001b[43my_test_onehot\u001b[49m\u001b[43m]\u001b[49m\u001b[43m)\u001b[49m\u001b[43m)\u001b[49m\n\u001b[0;32m     76\u001b[0m \u001b[38;5;66;03m# Evaluate the model\u001b[39;00m\n\u001b[0;32m     77\u001b[0m loss \u001b[38;5;241m=\u001b[39m model\u001b[38;5;241m.\u001b[39mevaluate(x_test, [locations_test, y_test_onehot])\n",
      "File \u001b[1;32mc:\\Users\\Emre\\AppData\\Local\\Programs\\Python\\Python39\\lib\\site-packages\\keras\\utils\\traceback_utils.py:65\u001b[0m, in \u001b[0;36mfilter_traceback.<locals>.error_handler\u001b[1;34m(*args, **kwargs)\u001b[0m\n\u001b[0;32m     63\u001b[0m filtered_tb \u001b[38;5;241m=\u001b[39m \u001b[38;5;28;01mNone\u001b[39;00m\n\u001b[0;32m     64\u001b[0m \u001b[38;5;28;01mtry\u001b[39;00m:\n\u001b[1;32m---> 65\u001b[0m     \u001b[38;5;28;01mreturn\u001b[39;00m fn(\u001b[38;5;241m*\u001b[39margs, \u001b[38;5;241m*\u001b[39m\u001b[38;5;241m*\u001b[39mkwargs)\n\u001b[0;32m     66\u001b[0m \u001b[38;5;28;01mexcept\u001b[39;00m \u001b[38;5;167;01mException\u001b[39;00m \u001b[38;5;28;01mas\u001b[39;00m e:\n\u001b[0;32m     67\u001b[0m     filtered_tb \u001b[38;5;241m=\u001b[39m _process_traceback_frames(e\u001b[38;5;241m.\u001b[39m__traceback__)\n",
      "File \u001b[1;32mc:\\Users\\Emre\\AppData\\Local\\Programs\\Python\\Python39\\lib\\site-packages\\keras\\engine\\training.py:1564\u001b[0m, in \u001b[0;36mModel.fit\u001b[1;34m(self, x, y, batch_size, epochs, verbose, callbacks, validation_split, validation_data, shuffle, class_weight, sample_weight, initial_epoch, steps_per_epoch, validation_steps, validation_batch_size, validation_freq, max_queue_size, workers, use_multiprocessing)\u001b[0m\n\u001b[0;32m   1556\u001b[0m \u001b[38;5;28;01mwith\u001b[39;00m tf\u001b[38;5;241m.\u001b[39mprofiler\u001b[38;5;241m.\u001b[39mexperimental\u001b[38;5;241m.\u001b[39mTrace(\n\u001b[0;32m   1557\u001b[0m     \u001b[38;5;124m\"\u001b[39m\u001b[38;5;124mtrain\u001b[39m\u001b[38;5;124m\"\u001b[39m,\n\u001b[0;32m   1558\u001b[0m     epoch_num\u001b[38;5;241m=\u001b[39mepoch,\n\u001b[1;32m   (...)\u001b[0m\n\u001b[0;32m   1561\u001b[0m     _r\u001b[38;5;241m=\u001b[39m\u001b[38;5;241m1\u001b[39m,\n\u001b[0;32m   1562\u001b[0m ):\n\u001b[0;32m   1563\u001b[0m     callbacks\u001b[38;5;241m.\u001b[39mon_train_batch_begin(step)\n\u001b[1;32m-> 1564\u001b[0m     tmp_logs \u001b[38;5;241m=\u001b[39m \u001b[38;5;28;43mself\u001b[39;49m\u001b[38;5;241;43m.\u001b[39;49m\u001b[43mtrain_function\u001b[49m\u001b[43m(\u001b[49m\u001b[43miterator\u001b[49m\u001b[43m)\u001b[49m\n\u001b[0;32m   1565\u001b[0m     \u001b[38;5;28;01mif\u001b[39;00m data_handler\u001b[38;5;241m.\u001b[39mshould_sync:\n\u001b[0;32m   1566\u001b[0m         context\u001b[38;5;241m.\u001b[39masync_wait()\n",
      "File \u001b[1;32mc:\\Users\\Emre\\AppData\\Local\\Programs\\Python\\Python39\\lib\\site-packages\\tensorflow\\python\\util\\traceback_utils.py:150\u001b[0m, in \u001b[0;36mfilter_traceback.<locals>.error_handler\u001b[1;34m(*args, **kwargs)\u001b[0m\n\u001b[0;32m    148\u001b[0m filtered_tb \u001b[38;5;241m=\u001b[39m \u001b[38;5;28;01mNone\u001b[39;00m\n\u001b[0;32m    149\u001b[0m \u001b[38;5;28;01mtry\u001b[39;00m:\n\u001b[1;32m--> 150\u001b[0m   \u001b[38;5;28;01mreturn\u001b[39;00m fn(\u001b[38;5;241m*\u001b[39margs, \u001b[38;5;241m*\u001b[39m\u001b[38;5;241m*\u001b[39mkwargs)\n\u001b[0;32m    151\u001b[0m \u001b[38;5;28;01mexcept\u001b[39;00m \u001b[38;5;167;01mException\u001b[39;00m \u001b[38;5;28;01mas\u001b[39;00m e:\n\u001b[0;32m    152\u001b[0m   filtered_tb \u001b[38;5;241m=\u001b[39m _process_traceback_frames(e\u001b[38;5;241m.\u001b[39m__traceback__)\n",
      "File \u001b[1;32mc:\\Users\\Emre\\AppData\\Local\\Programs\\Python\\Python39\\lib\\site-packages\\tensorflow\\python\\eager\\def_function.py:915\u001b[0m, in \u001b[0;36mFunction.__call__\u001b[1;34m(self, *args, **kwds)\u001b[0m\n\u001b[0;32m    912\u001b[0m compiler \u001b[38;5;241m=\u001b[39m \u001b[38;5;124m\"\u001b[39m\u001b[38;5;124mxla\u001b[39m\u001b[38;5;124m\"\u001b[39m \u001b[38;5;28;01mif\u001b[39;00m \u001b[38;5;28mself\u001b[39m\u001b[38;5;241m.\u001b[39m_jit_compile \u001b[38;5;28;01melse\u001b[39;00m \u001b[38;5;124m\"\u001b[39m\u001b[38;5;124mnonXla\u001b[39m\u001b[38;5;124m\"\u001b[39m\n\u001b[0;32m    914\u001b[0m \u001b[38;5;28;01mwith\u001b[39;00m OptionalXlaContext(\u001b[38;5;28mself\u001b[39m\u001b[38;5;241m.\u001b[39m_jit_compile):\n\u001b[1;32m--> 915\u001b[0m   result \u001b[38;5;241m=\u001b[39m \u001b[38;5;28mself\u001b[39m\u001b[38;5;241m.\u001b[39m_call(\u001b[38;5;241m*\u001b[39margs, \u001b[38;5;241m*\u001b[39m\u001b[38;5;241m*\u001b[39mkwds)\n\u001b[0;32m    917\u001b[0m new_tracing_count \u001b[38;5;241m=\u001b[39m \u001b[38;5;28mself\u001b[39m\u001b[38;5;241m.\u001b[39mexperimental_get_tracing_count()\n\u001b[0;32m    918\u001b[0m without_tracing \u001b[38;5;241m=\u001b[39m (tracing_count \u001b[38;5;241m==\u001b[39m new_tracing_count)\n",
      "File \u001b[1;32mc:\\Users\\Emre\\AppData\\Local\\Programs\\Python\\Python39\\lib\\site-packages\\tensorflow\\python\\eager\\def_function.py:980\u001b[0m, in \u001b[0;36mFunction._call\u001b[1;34m(self, *args, **kwds)\u001b[0m\n\u001b[0;32m    976\u001b[0m     \u001b[38;5;28;01mpass\u001b[39;00m  \u001b[38;5;66;03m# Fall through to cond-based initialization.\u001b[39;00m\n\u001b[0;32m    977\u001b[0m   \u001b[38;5;28;01melse\u001b[39;00m:\n\u001b[0;32m    978\u001b[0m     \u001b[38;5;66;03m# Lifting succeeded, so variables are initialized and we can run the\u001b[39;00m\n\u001b[0;32m    979\u001b[0m     \u001b[38;5;66;03m# stateless function.\u001b[39;00m\n\u001b[1;32m--> 980\u001b[0m     \u001b[38;5;28;01mreturn\u001b[39;00m \u001b[38;5;28mself\u001b[39m\u001b[38;5;241m.\u001b[39m_stateless_fn(\u001b[38;5;241m*\u001b[39margs, \u001b[38;5;241m*\u001b[39m\u001b[38;5;241m*\u001b[39mkwds)\n\u001b[0;32m    981\u001b[0m \u001b[38;5;28;01melse\u001b[39;00m:\n\u001b[0;32m    982\u001b[0m   _, _, filtered_flat_args \u001b[38;5;241m=\u001b[39m (\n\u001b[0;32m    983\u001b[0m       \u001b[38;5;28mself\u001b[39m\u001b[38;5;241m.\u001b[39m_stateful_fn\u001b[38;5;241m.\u001b[39m_function_spec\u001b[38;5;241m.\u001b[39mcanonicalize_function_inputs(  \u001b[38;5;66;03m# pylint: disable=protected-access\u001b[39;00m\n\u001b[0;32m    984\u001b[0m           \u001b[38;5;241m*\u001b[39margs, \u001b[38;5;241m*\u001b[39m\u001b[38;5;241m*\u001b[39mkwds))\n",
      "File \u001b[1;32mc:\\Users\\Emre\\AppData\\Local\\Programs\\Python\\Python39\\lib\\site-packages\\tensorflow\\python\\eager\\function.py:2496\u001b[0m, in \u001b[0;36mFunction.__call__\u001b[1;34m(self, *args, **kwargs)\u001b[0m\n\u001b[0;32m   2493\u001b[0m \u001b[38;5;28;01mwith\u001b[39;00m \u001b[38;5;28mself\u001b[39m\u001b[38;5;241m.\u001b[39m_lock:\n\u001b[0;32m   2494\u001b[0m   (graph_function,\n\u001b[0;32m   2495\u001b[0m    filtered_flat_args) \u001b[38;5;241m=\u001b[39m \u001b[38;5;28mself\u001b[39m\u001b[38;5;241m.\u001b[39m_maybe_define_function(args, kwargs)\n\u001b[1;32m-> 2496\u001b[0m \u001b[38;5;28;01mreturn\u001b[39;00m \u001b[43mgraph_function\u001b[49m\u001b[38;5;241;43m.\u001b[39;49m\u001b[43m_call_flat\u001b[49m\u001b[43m(\u001b[49m\n\u001b[0;32m   2497\u001b[0m \u001b[43m    \u001b[49m\u001b[43mfiltered_flat_args\u001b[49m\u001b[43m,\u001b[49m\u001b[43m \u001b[49m\u001b[43mcaptured_inputs\u001b[49m\u001b[38;5;241;43m=\u001b[39;49m\u001b[43mgraph_function\u001b[49m\u001b[38;5;241;43m.\u001b[39;49m\u001b[43mcaptured_inputs\u001b[49m\u001b[43m)\u001b[49m\n",
      "File \u001b[1;32mc:\\Users\\Emre\\AppData\\Local\\Programs\\Python\\Python39\\lib\\site-packages\\tensorflow\\python\\eager\\function.py:1862\u001b[0m, in \u001b[0;36mConcreteFunction._call_flat\u001b[1;34m(self, args, captured_inputs, cancellation_manager)\u001b[0m\n\u001b[0;32m   1858\u001b[0m possible_gradient_type \u001b[38;5;241m=\u001b[39m gradients_util\u001b[38;5;241m.\u001b[39mPossibleTapeGradientTypes(args)\n\u001b[0;32m   1859\u001b[0m \u001b[38;5;28;01mif\u001b[39;00m (possible_gradient_type \u001b[38;5;241m==\u001b[39m gradients_util\u001b[38;5;241m.\u001b[39mPOSSIBLE_GRADIENT_TYPES_NONE\n\u001b[0;32m   1860\u001b[0m     \u001b[38;5;129;01mand\u001b[39;00m executing_eagerly):\n\u001b[0;32m   1861\u001b[0m   \u001b[38;5;66;03m# No tape is watching; skip to running the function.\u001b[39;00m\n\u001b[1;32m-> 1862\u001b[0m   \u001b[38;5;28;01mreturn\u001b[39;00m \u001b[38;5;28mself\u001b[39m\u001b[38;5;241m.\u001b[39m_build_call_outputs(\u001b[38;5;28;43mself\u001b[39;49m\u001b[38;5;241;43m.\u001b[39;49m\u001b[43m_inference_function\u001b[49m\u001b[38;5;241;43m.\u001b[39;49m\u001b[43mcall\u001b[49m\u001b[43m(\u001b[49m\n\u001b[0;32m   1863\u001b[0m \u001b[43m      \u001b[49m\u001b[43mctx\u001b[49m\u001b[43m,\u001b[49m\u001b[43m \u001b[49m\u001b[43margs\u001b[49m\u001b[43m,\u001b[49m\u001b[43m \u001b[49m\u001b[43mcancellation_manager\u001b[49m\u001b[38;5;241;43m=\u001b[39;49m\u001b[43mcancellation_manager\u001b[49m\u001b[43m)\u001b[49m)\n\u001b[0;32m   1864\u001b[0m forward_backward \u001b[38;5;241m=\u001b[39m \u001b[38;5;28mself\u001b[39m\u001b[38;5;241m.\u001b[39m_select_forward_and_backward_functions(\n\u001b[0;32m   1865\u001b[0m     args,\n\u001b[0;32m   1866\u001b[0m     possible_gradient_type,\n\u001b[0;32m   1867\u001b[0m     executing_eagerly)\n\u001b[0;32m   1868\u001b[0m forward_function, args_with_tangents \u001b[38;5;241m=\u001b[39m forward_backward\u001b[38;5;241m.\u001b[39mforward()\n",
      "File \u001b[1;32mc:\\Users\\Emre\\AppData\\Local\\Programs\\Python\\Python39\\lib\\site-packages\\tensorflow\\python\\eager\\function.py:499\u001b[0m, in \u001b[0;36m_EagerDefinedFunction.call\u001b[1;34m(self, ctx, args, cancellation_manager)\u001b[0m\n\u001b[0;32m    497\u001b[0m \u001b[38;5;28;01mwith\u001b[39;00m _InterpolateFunctionError(\u001b[38;5;28mself\u001b[39m):\n\u001b[0;32m    498\u001b[0m   \u001b[38;5;28;01mif\u001b[39;00m cancellation_manager \u001b[38;5;129;01mis\u001b[39;00m \u001b[38;5;28;01mNone\u001b[39;00m:\n\u001b[1;32m--> 499\u001b[0m     outputs \u001b[38;5;241m=\u001b[39m \u001b[43mexecute\u001b[49m\u001b[38;5;241;43m.\u001b[39;49m\u001b[43mexecute\u001b[49m\u001b[43m(\u001b[49m\n\u001b[0;32m    500\u001b[0m \u001b[43m        \u001b[49m\u001b[38;5;28;43mstr\u001b[39;49m\u001b[43m(\u001b[49m\u001b[38;5;28;43mself\u001b[39;49m\u001b[38;5;241;43m.\u001b[39;49m\u001b[43msignature\u001b[49m\u001b[38;5;241;43m.\u001b[39;49m\u001b[43mname\u001b[49m\u001b[43m)\u001b[49m\u001b[43m,\u001b[49m\n\u001b[0;32m    501\u001b[0m \u001b[43m        \u001b[49m\u001b[43mnum_outputs\u001b[49m\u001b[38;5;241;43m=\u001b[39;49m\u001b[38;5;28;43mself\u001b[39;49m\u001b[38;5;241;43m.\u001b[39;49m\u001b[43m_num_outputs\u001b[49m\u001b[43m,\u001b[49m\n\u001b[0;32m    502\u001b[0m \u001b[43m        \u001b[49m\u001b[43minputs\u001b[49m\u001b[38;5;241;43m=\u001b[39;49m\u001b[43margs\u001b[49m\u001b[43m,\u001b[49m\n\u001b[0;32m    503\u001b[0m \u001b[43m        \u001b[49m\u001b[43mattrs\u001b[49m\u001b[38;5;241;43m=\u001b[39;49m\u001b[43mattrs\u001b[49m\u001b[43m,\u001b[49m\n\u001b[0;32m    504\u001b[0m \u001b[43m        \u001b[49m\u001b[43mctx\u001b[49m\u001b[38;5;241;43m=\u001b[39;49m\u001b[43mctx\u001b[49m\u001b[43m)\u001b[49m\n\u001b[0;32m    505\u001b[0m   \u001b[38;5;28;01melse\u001b[39;00m:\n\u001b[0;32m    506\u001b[0m     outputs \u001b[38;5;241m=\u001b[39m execute\u001b[38;5;241m.\u001b[39mexecute_with_cancellation(\n\u001b[0;32m    507\u001b[0m         \u001b[38;5;28mstr\u001b[39m(\u001b[38;5;28mself\u001b[39m\u001b[38;5;241m.\u001b[39msignature\u001b[38;5;241m.\u001b[39mname),\n\u001b[0;32m    508\u001b[0m         num_outputs\u001b[38;5;241m=\u001b[39m\u001b[38;5;28mself\u001b[39m\u001b[38;5;241m.\u001b[39m_num_outputs,\n\u001b[1;32m   (...)\u001b[0m\n\u001b[0;32m    511\u001b[0m         ctx\u001b[38;5;241m=\u001b[39mctx,\n\u001b[0;32m    512\u001b[0m         cancellation_manager\u001b[38;5;241m=\u001b[39mcancellation_manager)\n",
      "File \u001b[1;32mc:\\Users\\Emre\\AppData\\Local\\Programs\\Python\\Python39\\lib\\site-packages\\tensorflow\\python\\eager\\execute.py:54\u001b[0m, in \u001b[0;36mquick_execute\u001b[1;34m(op_name, num_outputs, inputs, attrs, ctx, name)\u001b[0m\n\u001b[0;32m     52\u001b[0m \u001b[38;5;28;01mtry\u001b[39;00m:\n\u001b[0;32m     53\u001b[0m   ctx\u001b[38;5;241m.\u001b[39mensure_initialized()\n\u001b[1;32m---> 54\u001b[0m   tensors \u001b[38;5;241m=\u001b[39m \u001b[43mpywrap_tfe\u001b[49m\u001b[38;5;241;43m.\u001b[39;49m\u001b[43mTFE_Py_Execute\u001b[49m\u001b[43m(\u001b[49m\u001b[43mctx\u001b[49m\u001b[38;5;241;43m.\u001b[39;49m\u001b[43m_handle\u001b[49m\u001b[43m,\u001b[49m\u001b[43m \u001b[49m\u001b[43mdevice_name\u001b[49m\u001b[43m,\u001b[49m\u001b[43m \u001b[49m\u001b[43mop_name\u001b[49m\u001b[43m,\u001b[49m\n\u001b[0;32m     55\u001b[0m \u001b[43m                                      \u001b[49m\u001b[43minputs\u001b[49m\u001b[43m,\u001b[49m\u001b[43m \u001b[49m\u001b[43mattrs\u001b[49m\u001b[43m,\u001b[49m\u001b[43m \u001b[49m\u001b[43mnum_outputs\u001b[49m\u001b[43m)\u001b[49m\n\u001b[0;32m     56\u001b[0m \u001b[38;5;28;01mexcept\u001b[39;00m core\u001b[38;5;241m.\u001b[39m_NotOkStatusException \u001b[38;5;28;01mas\u001b[39;00m e:\n\u001b[0;32m     57\u001b[0m   \u001b[38;5;28;01mif\u001b[39;00m name \u001b[38;5;129;01mis\u001b[39;00m \u001b[38;5;129;01mnot\u001b[39;00m \u001b[38;5;28;01mNone\u001b[39;00m:\n",
      "\u001b[1;31mKeyboardInterrupt\u001b[0m: "
     ]
    }
   ],
   "source": [
    "import numpy as np\n",
    "import cv2\n",
    "from tensorflow.keras.models import Sequential\n",
    "from tensorflow.keras.layers import Conv2D, MaxPooling2D, Flatten, Dense\n",
    "from tensorflow.keras.optimizers import Adam\n",
    "from tensorflow.keras.models import Model\n",
    "from tensorflow.keras.layers import Input\n",
    "import tensorflow.keras.backend as K\n",
    "from tensorflow.keras.utils import to_categorical\n",
    "\n",
    "\n",
    "def iou(y_true, y_pred):\n",
    "    # Define the intersection and the union\n",
    "    xA = K.maximum(y_true[:, 0], y_pred[:, 0])\n",
    "    yA = K.maximum(y_true[:, 1], y_pred[:, 1])\n",
    "    xB = K.minimum(y_true[:, 2], y_pred[:, 2])\n",
    "    yB = K.minimum(y_true[:, 3], y_pred[:, 3])\n",
    "\n",
    "    # Calculate the area of intersection\n",
    "    interArea = K.maximum(0.0, xB - xA) * K.maximum(0.0, yB - yA)\n",
    "\n",
    "    # Calculate the area of both rectangles\n",
    "    boxAArea = (y_true[:, 2] - y_true[:, 0]) * (y_true[:, 3] - y_true[:, 1])\n",
    "    boxBArea = (y_pred[:, 2] - y_pred[:, 0]) * (y_pred[:, 3] - y_pred[:, 1])\n",
    "\n",
    "    # Calculate the area of union\n",
    "    union = (boxAArea + boxBArea) - interArea\n",
    "\n",
    "    # Calculate the IOU\n",
    "    iou = interArea / union\n",
    "\n",
    "    return iou\n",
    "\n",
    "# Define R-CNN model\n",
    "def RCNN(image):\n",
    "    x = Conv2D(32, (3, 3), activation='relu', input_shape=(72, 72, 1))(image)\n",
    "    x = MaxPooling2D((2, 2))(x)\n",
    "    x = Conv2D(64, (3, 3), activation='relu')(x)\n",
    "    x = MaxPooling2D((2, 2))(x)\n",
    "    x = Conv2D(64, (3, 3), activation='relu')(x)\n",
    "    x_1 = Flatten()(x)\n",
    "    x_1 = Dense(64, activation='relu')(x_1)\n",
    "    x_1 = Dense(4)(x_1)\n",
    "\n",
    "    x_2 = Flatten()(x)\n",
    "    x_2 = Dense(64, activation='relu')(x_2)\n",
    "    x_2 = Dense(10)(x_2)\n",
    "\n",
    "    return x_1, x_2\n",
    "\n",
    "input_shape = (72, 72, 1)\n",
    "image_input = Input(shape=input_shape)\n",
    "output_1, output_2 = RCNN(image_input)\n",
    "\n",
    "model = Model(inputs=image_input, outputs=[output_1, output_2])\n",
    "optimizer = Adam(lr=0.001)\n",
    "\n",
    "# Compile the model with IOU loss function\n",
    "model.compile(optimizer=optimizer, loss=[iou, 'categorical_crossentropy'], metrics=[])\n",
    "\n",
    "\n",
    "# Reshape data for CNN input\n",
    "x_train = np.expand_dims(x_train, axis=-1)\n",
    "x_test = np.expand_dims(x_test, axis=-1)\n",
    "\n",
    "# Normalize pixel values to range [0, 1]\n",
    "x_train = x_train.astype('float32') / 255\n",
    "x_test = x_test.astype('float32') / 255\n",
    "\n",
    "y_train_onehot = to_categorical(y_train, num_classes=10)\n",
    "y_test_onehot = to_categorical(y_test, num_classes=10)\n",
    "\n",
    "# Train the model\n",
    "model.fit(x_train, [locations_train, y_train_onehot], epochs=5, batch_size=32, validation_data=(x_test, [locations_test, y_test_onehot]))\n",
    "\n",
    "# Evaluate the model\n",
    "loss = model.evaluate(x_test, [locations_test, y_test_onehot])\n",
    "print(\"Test Loss:\", loss)\n",
    " "
   ]
  },
  {
   "cell_type": "code",
   "execution_count": null,
   "metadata": {},
   "outputs": [],
   "source": [
    "#write a function to predict bounding box coordinates\n",
    "def predict_bounding_box_and_label(image):\n",
    "    #resize image to 72x72\n",
    "    image = cv2.resize(image, (72, 72))\n",
    "\n",
    "    #reshape and normalize pixel values\n",
    "    image = np.expand_dims(image, axis=-1)\n",
    "    image = np.expand_dims(image, axis=0)\n",
    "    image = image.astype('float32') / 255\n",
    "\n",
    "    #predict bounding box coordinates\n",
    "    bounding_box, label  = model.predict(image)[0]\n",
    "\n",
    "    return bounding_box, label"
   ]
  },
  {
   "cell_type": "code",
   "execution_count": null,
   "metadata": {},
   "outputs": [
    {
     "name": "stdout",
     "output_type": "stream",
     "text": [
      "1/1 [==============================] - 0s 15ms/step\n"
     ]
    },
    {
     "ename": "ValueError",
     "evalue": "not enough values to unpack (expected 2, got 1)",
     "output_type": "error",
     "traceback": [
      "\u001b[1;31m---------------------------------------------------------------------------\u001b[0m",
      "\u001b[1;31mValueError\u001b[0m                                Traceback (most recent call last)",
      "Cell \u001b[1;32mIn[42], line 2\u001b[0m\n\u001b[0;32m      1\u001b[0m test_image \u001b[38;5;241m=\u001b[39m x_test[\u001b[38;5;241m6\u001b[39m]\n\u001b[1;32m----> 2\u001b[0m bounding_box, label \u001b[38;5;241m=\u001b[39m predict_bounding_box(test_image)\n\u001b[0;32m      4\u001b[0m \u001b[38;5;66;03m#draw bounding box on test image\u001b[39;00m\n\u001b[0;32m      5\u001b[0m image \u001b[38;5;241m=\u001b[39m np\u001b[38;5;241m.\u001b[39msqueeze(test_image)\n",
      "\u001b[1;31mValueError\u001b[0m: not enough values to unpack (expected 2, got 1)"
     ]
    }
   ],
   "source": [
    "test_image = x_test[6]\n",
    "bounding_box , label = predict_bounding_box(test_image)\n",
    "\n",
    "#draw bounding box on test image\n",
    "image = np.squeeze(test_image)\n",
    "image = cv2.resize(image, (72, 72))\n",
    "image = cv2.cvtColor(image, cv2.COLOR_GRAY2BGR)\n",
    "\n",
    "#convert normalized coordinates to pixel values\n",
    "x_min = int(bounding_box[0] * 72)\n",
    "y_min = int(bounding_box[1] * 72)\n",
    "x_max = int(bounding_box[2] * 72)\n",
    "y_max = int(bounding_box[3] * 72)\n",
    "\n",
    "#draw bounding box\n",
    "image = cv2.rectangle(image, (x_min, y_min), (x_max, y_max), (0, 255, 0), 1)\n",
    "\n",
    "plt.imshow(image)"
   ]
  },
  {
   "cell_type": "code",
   "execution_count": null,
   "metadata": {},
   "outputs": [],
   "source": []
  },
  {
   "cell_type": "code",
   "execution_count": 2,
   "metadata": {},
   "outputs": [
    {
     "name": "stderr",
     "output_type": "stream",
     "text": [
      "100%|██████████| 60000/60000 [00:00<00:00, 87412.11it/s]\n",
      "100%|██████████| 10000/10000 [00:00<00:00, 89552.23it/s]\n"
     ]
    },
    {
     "name": "stdout",
     "output_type": "stream",
     "text": [
      "Model: \"model\"\n",
      "__________________________________________________________________________________________________\n",
      " Layer (type)                   Output Shape         Param #     Connected to                     \n",
      "==================================================================================================\n",
      " input_1 (InputLayer)           [(None, 72, 72, 1)]  0           []                               \n",
      "                                                                                                  \n",
      " conv2d (Conv2D)                (None, 70, 70, 32)   320         ['input_1[0][0]']                \n",
      "                                                                                                  \n",
      " max_pooling2d (MaxPooling2D)   (None, 35, 35, 32)   0           ['conv2d[0][0]']                 \n",
      "                                                                                                  \n",
      " conv2d_1 (Conv2D)              (None, 33, 33, 64)   18496       ['max_pooling2d[0][0]']          \n",
      "                                                                                                  \n",
      " max_pooling2d_1 (MaxPooling2D)  (None, 16, 16, 64)  0           ['conv2d_1[0][0]']               \n",
      "                                                                                                  \n",
      " conv2d_2 (Conv2D)              (None, 14, 14, 64)   36928       ['max_pooling2d_1[0][0]']        \n",
      "                                                                                                  \n",
      " flatten (Flatten)              (None, 12544)        0           ['conv2d_2[0][0]']               \n",
      "                                                                                                  \n",
      " dense (Dense)                  (None, 64)           802880      ['flatten[0][0]']                \n",
      "                                                                                                  \n",
      " bounding_box (Dense)           (None, 4)            260         ['dense[0][0]']                  \n",
      "                                                                                                  \n",
      " class_label (Dense)            (None, 10)           650         ['dense[0][0]']                  \n",
      "                                                                                                  \n",
      "==================================================================================================\n",
      "Total params: 859,534\n",
      "Trainable params: 859,534\n",
      "Non-trainable params: 0\n",
      "__________________________________________________________________________________________________\n"
     ]
    },
    {
     "name": "stderr",
     "output_type": "stream",
     "text": [
      "c:\\Users\\Emre\\AppData\\Local\\Programs\\Python\\Python39\\lib\\site-packages\\keras\\optimizers\\optimizer_v2\\adam.py:114: UserWarning: The `lr` argument is deprecated, use `learning_rate` instead.\n",
      "  super().__init__(name, **kwargs)\n"
     ]
    },
    {
     "name": "stdout",
     "output_type": "stream",
     "text": [
      "None\n",
      "Epoch 1/5\n",
      "1875/1875 [==============================] - 13s 5ms/step - loss: 1.6302 - bounding_box_loss: 0.8518 - class_label_loss: 0.7783 - bounding_box_accuracy: 0.6105 - class_label_accuracy: 0.7329 - val_loss: 1.0823 - val_bounding_box_loss: 0.7171 - val_class_label_loss: 0.3652 - val_bounding_box_accuracy: 0.8700 - val_class_label_accuracy: 0.8881\n",
      "Epoch 2/5\n",
      "1875/1875 [==============================] - 11s 6ms/step - loss: 0.8572 - bounding_box_loss: 0.6004 - class_label_loss: 0.2568 - bounding_box_accuracy: 0.8567 - class_label_accuracy: 0.9277 - val_loss: 0.7139 - val_bounding_box_loss: 0.5111 - val_class_label_loss: 0.2029 - val_bounding_box_accuracy: 0.9125 - val_class_label_accuracy: 0.9417\n",
      "Epoch 3/5\n",
      "1875/1875 [==============================] - 9s 5ms/step - loss: 0.6007 - bounding_box_loss: 0.4401 - class_label_loss: 0.1606 - bounding_box_accuracy: 0.9205 - class_label_accuracy: 0.9544 - val_loss: 0.5423 - val_bounding_box_loss: 0.4159 - val_class_label_loss: 0.1264 - val_bounding_box_accuracy: 0.9306 - val_class_label_accuracy: 0.9611\n",
      "Epoch 4/5\n",
      "1875/1875 [==============================] - 9s 5ms/step - loss: 0.4870 - bounding_box_loss: 0.3754 - class_label_loss: 0.1117 - bounding_box_accuracy: 0.9391 - class_label_accuracy: 0.9684 - val_loss: 0.4874 - val_bounding_box_loss: 0.3617 - val_class_label_loss: 0.1257 - val_bounding_box_accuracy: 0.9282 - val_class_label_accuracy: 0.9618\n",
      "Epoch 5/5\n",
      "1875/1875 [==============================] - 9s 5ms/step - loss: 0.4206 - bounding_box_loss: 0.3396 - class_label_loss: 0.0810 - bounding_box_accuracy: 0.9481 - class_label_accuracy: 0.9768 - val_loss: 0.4256 - val_bounding_box_loss: 0.3212 - val_class_label_loss: 0.1045 - val_bounding_box_accuracy: 0.9494 - val_class_label_accuracy: 0.9668\n"
     ]
    },
    {
     "data": {
      "text/plain": [
       "<keras.callbacks.History at 0x1fb46605ac0>"
      ]
     },
     "execution_count": 2,
     "metadata": {},
     "output_type": "execute_result"
    }
   ],
   "source": [
    "import os,cv2,keras\n",
    "import pandas as pd\n",
    "import matplotlib.pyplot as plt\n",
    "import numpy as np\n",
    "import tensorflow as tf\n",
    "from keras.datasets import mnist\n",
    "from tqdm import tqdm\n",
    "from tensorflow.keras.utils import to_categorical\n",
    "\n",
    "# load mnist dataset\n",
    "(x_train, y_train), (x_test, y_test) = mnist.load_data()\n",
    "\n",
    "y_train_encoded = to_categorical(y_train, num_classes=10)\n",
    "y_test_encoded = to_categorical(y_test, num_classes=10)\n",
    "\n",
    "import numpy as np\n",
    "\n",
    "def create_image(mnist_image):\n",
    "    # create 72x72 canvas\n",
    "    canvas = np.zeros((72,72), dtype=np.uint8)\n",
    "\n",
    "    # resize mnist image to random size between 14x14 and 36x36\n",
    "    random_size = np.random.randint(14, 36)\n",
    "    mnist_image = cv2.resize(mnist_image, (random_size, random_size))\n",
    "\n",
    "    # paste mnist image to random location on canvas\n",
    "    x_offset = np.random.randint(0, 72-random_size)\n",
    "    y_offset = np.random.randint(0, 72-random_size)\n",
    "    canvas[y_offset:y_offset+random_size, x_offset:x_offset+random_size] = mnist_image\n",
    "\n",
    "    # get object location in canvas coordinates for R-CNN training\n",
    "    x_min = x_offset / 72\n",
    "    y_min = y_offset / 72\n",
    "    x_max = (x_offset + random_size) / 72\n",
    "    y_max = (y_offset + random_size) / 72\n",
    "\n",
    "    location = [x_min, y_min, x_max, y_max]\n",
    "\n",
    "    return canvas, location\n",
    "\n",
    "temp_x_train = np.ndarray((x_train.shape[0], 72, 72), dtype=np.uint8)\n",
    "locations_train = np.ndarray((x_train.shape[0], 4), dtype=np.float32)\n",
    "\n",
    "for i in tqdm(range(x_train.shape[0])):\n",
    "    temp_x_train[i], label = create_image(x_train[i])\n",
    "    locations_train[i] = label\n",
    "\n",
    "x_train = temp_x_train\n",
    "\n",
    "temp_x_test = np.ndarray((x_test.shape[0], 72, 72), dtype=np.uint8)\n",
    "locations_test = np.ndarray((x_test.shape[0], 4), dtype=np.float32)\n",
    "\n",
    "for i in tqdm(range(x_test.shape[0])):\n",
    "    temp_x_test[i], label = create_image(x_test[i])\n",
    "    locations_test[i] = label\n",
    "\n",
    "x_test = temp_x_test\n",
    "\n",
    "import numpy as np\n",
    "import cv2\n",
    "from tensorflow.keras.models import Sequential\n",
    "from tensorflow.keras.layers import Conv2D, MaxPooling2D, Flatten, Dense\n",
    "from tensorflow.keras.optimizers import Adam\n",
    "from tensorflow.keras.models import Model\n",
    "from tensorflow.keras.layers import Input\n",
    "import tensorflow.keras.backend as K\n",
    "\n",
    "def iou(y_true, y_pred):\n",
    "    # Define the intersection and the union\n",
    "    xA = K.maximum(y_true[0][0], y_pred[0][0]) \n",
    "    yA = K.maximum(y_true[0][1], y_pred[0][1])\n",
    "    xB = K.minimum(y_true[0][2], y_pred[0][2])\n",
    "    yB = K.minimum(y_true[0][3], y_pred[0][3])\n",
    "\n",
    "    # Calculate the area of intersection\n",
    "    interArea = K.maximum(0.0, xB - xA) * K.maximum(0.0, yB - yA)\n",
    "\n",
    "    # Calculate the area of both rectangles\n",
    "    boxAArea = (y_true[0][2] - y_true[0][0]) * (y_true[0][3] - y_true[0][1])\n",
    "    boxBArea = (y_pred[0][2] - y_pred[0][0]) * (y_pred[0][3] - y_pred[0][1])\n",
    "\n",
    "    # Calculate the area of union\n",
    "    union = (boxAArea + boxBArea) - interArea\n",
    "\n",
    "    # Calculate the IOU\n",
    "    iou = interArea / union\n",
    "\n",
    "    return 1-iou\n",
    "\n",
    "# Define R-CNN model\n",
    "def RCNN(image):\n",
    "    x = Conv2D(32, (3, 3), activation='relu', input_shape=(72, 72, 1))(image)\n",
    "    x = MaxPooling2D((2, 2))(x)\n",
    "    x = Conv2D(64, (3, 3), activation='relu')(x)\n",
    "    x = MaxPooling2D((2, 2))(x)\n",
    "    x = Conv2D(64, (3, 3), activation='relu')(x)\n",
    "    x = Flatten()(x)\n",
    "    x = Dense(64, activation='relu')(x)\n",
    "    \n",
    "    # Output for bounding box prediction\n",
    "    bounding_box_output = Dense(4, activation= 'sigmoid', name = 'bounding_box')(x)\n",
    "\n",
    "    # Output for label prediction\n",
    "    label_output = Dense(10, activation='softmax', name = 'class_label')(x)\n",
    "\n",
    "    return bounding_box_output, label_output\n",
    "\n",
    "input_shape = (72, 72, 1)\n",
    "image_input = Input(shape=input_shape)\n",
    "output_1, output_2 = RCNN(image_input)\n",
    "\n",
    "model = Model(inputs=image_input, outputs=[output_1, output_2])\n",
    "optimizer = Adam(lr=0.001)\n",
    "\n",
    "losses = {\n",
    "    \"class_label\": \"categorical_crossentropy\",\n",
    "    \"bounding_box\": iou\n",
    "}\n",
    "\n",
    "lossWeights = {\n",
    "    \"class_label\": 1.0,\n",
    "    \"bounding_box\": 1.0\n",
    "}\n",
    "\n",
    "trainTargets = {\n",
    "    \"class_label\": y_train_encoded,\n",
    "    \"bounding_box\": locations_train\n",
    "}\n",
    "\n",
    "testTargets = {\n",
    "    \"class_label\": y_test_encoded,\n",
    "    \"bounding_box\": locations_test\n",
    "}\n",
    "\n",
    "# Compile the model with IOU loss function\n",
    "model.compile(optimizer=optimizer, loss=losses, metrics=['accuracy'], loss_weights=lossWeights)\n",
    "\n",
    "print(model.summary())\n",
    "\n",
    "# Reshape data for CNN input\n",
    "x_train = np.expand_dims(x_train, axis=-1)\n",
    "x_test = np.expand_dims(x_test, axis=-1)\n",
    "\n",
    "# Normalize pixel values to range [0, 1]\n",
    "x_train = x_train.astype('float32') / 255\n",
    "x_test = x_test.astype('float32') / 255\n",
    "\n",
    "# Train the model\n",
    "model.fit(x_train, trainTargets, epochs=5, batch_size=32, validation_data=(x_test, testTargets))\n"
   ]
  },
  {
   "cell_type": "code",
   "execution_count": 3,
   "metadata": {},
   "outputs": [
    {
     "name": "stdout",
     "output_type": "stream",
     "text": [
      "313/313 [==============================] - 1s 3ms/step - loss: 0.4256 - bounding_box_loss: 0.3212 - class_label_loss: 0.1045 - bounding_box_accuracy: 0.9494 - class_label_accuracy: 0.9668\n",
      "Test Loss: [0.42563074827194214, 0.3211584985256195, 0.10447245091199875, 0.949400007724762, 0.9667999744415283]\n"
     ]
    }
   ],
   "source": [
    "# Evaluate the model\n",
    "loss = model.evaluate(x_test, testTargets)\n",
    "print(\"Test Loss:\", loss)\n",
    "\n",
    "# Write a function to predict bounding box coordinates\n",
    "def predict_bounding_box_and_label(image):\n",
    "    # Resize image to 72x72\n",
    "    image = cv2.resize(image, (72, 72))\n",
    "\n",
    "    # Reshape and normalize pixel values\n",
    "    image = np.expand_dims(image, axis=-1)\n",
    "    image = np.expand_dims(image, axis=0)\n",
    "    image = image.astype('float32') / 255\n",
    "\n",
    "    # Predict bounding box coordinates\n",
    "    bounding_box, label = model.predict(image)\n",
    "    \n",
    "    return bounding_box, label\n",
    "\n"
   ]
  },
  {
   "cell_type": "code",
   "execution_count": 6,
   "metadata": {},
   "outputs": [],
   "source": [
    "def test(i):\n",
    "    test_image = x_test[i]\n",
    "    bounding_box , label = predict_bounding_box_and_label(test_image)\n",
    "\n",
    "    # draw bounding box on test image\n",
    "    image = np.squeeze(test_image)\n",
    "    image = cv2.resize(image, (72, 72))\n",
    "    image = cv2.cvtColor(image, cv2.COLOR_GRAY2BGR)\n",
    "\n",
    "    # convert normalized coordinates to pixel values\n",
    "    x_min = int(bounding_box[0][0] * 72)\n",
    "    y_min = int(bounding_box[0][1] * 72)\n",
    "    x_max = int(bounding_box[0][2] * 72)\n",
    "    y_max = int(bounding_box[0][3] * 72)\n",
    "\n",
    "    print(\"Predicted Label:\", np.argmax(label))\n",
    "    print(\"Bounding Box Coordinates:\", bounding_box)\n",
    "    #print actual label\n",
    "    print(\"Actual Label:\", y_test[i])\n",
    "    print(\"Actual Bounding Box Coordinates:\", locations_test[i])\n",
    "\n",
    "\n",
    "    # draw bounding box\n",
    "    # Adjusting coordinates to match the format expected by cv2.rectangle\n",
    "    top_left = (x_min, y_min)\n",
    "    bottom_right = (x_max, y_max)\n",
    "    image = cv2.rectangle(image, top_left, bottom_right, (0, 255, 0), 1)\n",
    "\n",
    "    plt.imshow(image)\n",
    "    plt.show()\n"
   ]
  },
  {
   "cell_type": "code",
   "execution_count": 7,
   "metadata": {},
   "outputs": [
    {
     "name": "stdout",
     "output_type": "stream",
     "text": [
      "1/1 [==============================] - 0s 18ms/step\n"
     ]
    },
    {
     "name": "stderr",
     "output_type": "stream",
     "text": [
      "Clipping input data to the valid range for imshow with RGB data ([0..1] for floats or [0..255] for integers).\n"
     ]
    },
    {
     "name": "stdout",
     "output_type": "stream",
     "text": [
      "Predicted Label: 1\n",
      "Bounding Box Coordinates: [[0.41371313 0.31117204 0.65524626 0.58643466]]\n",
      "Actual Label: 4\n",
      "Actual Bounding Box Coordinates: [0.33333334 0.30555555 0.7916667  0.7638889 ]\n"
     ]
    },
    {
     "data": {
      "image/png": "[encoded data removed]",
      "text/plain": [
       "<Figure size 640x480 with 1 Axes>"
      ]
     },
     "metadata": {},
     "output_type": "display_data"
    }
   ],
   "source": [
    "test(6)"
   ]
  },
  {
   "cell_type": "code",
   "execution_count": null,
   "metadata": {},
   "outputs": [],
   "source": []
  }
 ],
 "metadata": {
  "kernelspec": {
   "display_name": "Python 3",
   "language": "python",
   "name": "python3"
  },
  "language_info": {
   "codemirror_mode": {
    "name": "ipython",
    "version": 3
   },
   "file_extension": ".py",
   "mimetype": "text/x-python",
   "name": "python",
   "nbconvert_exporter": "python",
   "pygments_lexer": "ipython3",
   "version": "3.9.7"
  }
 },
 "nbformat": 4,
 "nbformat_minor": 2
}
